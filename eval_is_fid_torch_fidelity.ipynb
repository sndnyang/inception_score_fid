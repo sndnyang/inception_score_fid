{
 "cells": [
  {
   "cell_type": "code",
   "execution_count": 1,
   "id": "5fd8692d",
   "metadata": {},
   "outputs": [],
   "source": [
    "%config Completer.use_jedi = False\n",
    "%load_ext autoreload\n",
    "%autoreload 2"
   ]
  },
  {
   "cell_type": "code",
   "execution_count": 2,
   "id": "14db504e",
   "metadata": {},
   "outputs": [],
   "source": [
    "import sys\n",
    "import os\n",
    "import time\n",
    "import argparse\n",
    "import numpy as np\n",
    "import torch as t\n",
    "import torch.nn as nn\n",
    "import torchvision as tv\n",
    "import torchvision.transforms as tr\n",
    "from torch.utils.data import DataLoader, Dataset\n",
    "import numpy as np\n",
    "\n",
    "import torch\n",
    "from torch.utils.data import TensorDataset\n",
    "\n",
    "from utils import get_train_test\n",
    "\n",
    "os.environ['CUDA_VISIBLE_DEVICES'] = '4'"
   ]
  },
  {
   "cell_type": "code",
   "execution_count": 3,
   "id": "fb439ccc",
   "metadata": {},
   "outputs": [],
   "source": [
    "import torch_fidelity"
   ]
  },
  {
   "cell_type": "code",
   "execution_count": 4,
   "id": "6028c0b5",
   "metadata": {},
   "outputs": [],
   "source": [
    "def norm_ip(img, min, max):\n",
    "    temp = t.clamp(img, min=min, max=max)\n",
    "    temp = (temp + -min) / (max - min + 1e-5)\n",
    "    return temp"
   ]
  },
  {
   "cell_type": "code",
   "execution_count": 5,
   "id": "848acfd6",
   "metadata": {},
   "outputs": [],
   "source": [
    "device = t.device('cuda' if t.cuda.is_available() else 'cpu')\n"
   ]
  },
  {
   "cell_type": "code",
   "execution_count": 6,
   "id": "b27fae94",
   "metadata": {},
   "outputs": [
    {
     "name": "stdout",
     "output_type": "stream",
     "text": [
      "Files already downloaded and verified\n",
      "Files already downloaded and verified\n",
      "Files already downloaded and verified\n"
     ]
    }
   ],
   "source": [
    "args = argparse.Namespace()\n",
    "args.dataset = 'cifar10'\n",
    "args.data_root = '../../data'\n",
    "args.seed = 1\n",
    "data_loader, test_loader = get_train_test(args)\n"
   ]
  },
  {
   "cell_type": "code",
   "execution_count": 7,
   "id": "f91dae14",
   "metadata": {},
   "outputs": [
    {
     "name": "stdout",
     "output_type": "stream",
     "text": [
      "Files already downloaded and verified\n",
      "Files already downloaded and verified\n",
      "(60000, 32, 32, 3)\n"
     ]
    }
   ],
   "source": [
    "from data import Cifar10\n",
    "test_dataset = Cifar10(args, full=True, noise=False)\n",
    "\n",
    "test_dataloader = DataLoader(test_dataset, batch_size=100, num_workers=0, shuffle=True, drop_last=False)\n",
    "\n",
    "test_ims = []\n",
    "\n",
    "def rescale_im(im):\n",
    "    return np.clip(im * 256, 0, 255).astype(np.uint8)\n",
    "\n",
    "for data_corrupt, data, label_gt in test_dataloader:\n",
    "    if args.dataset in ['celeba128', 'img32']:\n",
    "        data = data_corrupt.numpy().transpose(0, 2, 3, 1)\n",
    "    else:\n",
    "        data = data.numpy()\n",
    "    test_ims.extend(list(rescale_im(data)))\n",
    "    if (args.dataset == \"imagenet\" or 'img' in args.dataset) and len(test_ims) > 60000:\n",
    "        test_ims = test_ims[:60000]\n",
    "        break\n",
    "        \n",
    "print(np.array(test_ims).shape)"
   ]
  },
  {
   "cell_type": "code",
   "execution_count": 8,
   "id": "b1077933",
   "metadata": {},
   "outputs": [],
   "source": [
    "test_imgs = np.array(test_ims).transpose(0, 3, 1, 2)"
   ]
  },
  {
   "cell_type": "code",
   "execution_count": 9,
   "id": "b6edcb7b",
   "metadata": {},
   "outputs": [],
   "source": [
    "train_images = []\n",
    "for data, y, _  in data_loader:\n",
    "    data = norm_ip(data, -1, 1).numpy()\n",
    "    train_images.extend(list(rescale_im(data)))\n",
    "    if (args.dataset == \"imagenet\" or 'img' in args.dataset) and len(train_images) > 60000:\n",
    "        train_images = train_images[:60000]\n",
    "        break\n",
    "        \n",
    "train_images = np.array(train_images)"
   ]
  },
  {
   "cell_type": "code",
   "execution_count": 10,
   "id": "5916400e",
   "metadata": {},
   "outputs": [],
   "source": [
    "test_images = []\n",
    "for data, y, _ in test_loader:\n",
    "    data = norm_ip(data, -1, 1).numpy()\n",
    "    test_images.extend(list(rescale_im(data)))\n",
    "    if (args.dataset == \"imagenet\" or 'img' in args.dataset) and len(test_images) > 60000:\n",
    "        test_images = test_images[:60000]\n",
    "        break\n",
    "test_images = np.array(test_images)"
   ]
  },
  {
   "cell_type": "code",
   "execution_count": 11,
   "id": "dcc16f75",
   "metadata": {},
   "outputs": [
    {
     "data": {
      "text/plain": [
       "(60000, 3, 32, 32)"
      ]
     },
     "execution_count": 11,
     "metadata": {},
     "output_type": "execute_result"
    }
   ],
   "source": [
    "test_imgs.shape"
   ]
  },
  {
   "cell_type": "code",
   "execution_count": 12,
   "id": "3c6f5a81",
   "metadata": {},
   "outputs": [
    {
     "name": "stdout",
     "output_type": "stream",
     "text": [
      "(50000, 3, 32, 32) (10000, 3, 32, 32)\n"
     ]
    }
   ],
   "source": [
    "print(train_images.shape, test_images.shape)"
   ]
  },
  {
   "cell_type": "code",
   "execution_count": 13,
   "id": "183f44ae",
   "metadata": {},
   "outputs": [
    {
     "data": {
      "text/plain": [
       "(0, 0, 255, 255)"
      ]
     },
     "execution_count": 13,
     "metadata": {},
     "output_type": "execute_result"
    }
   ],
   "source": [
    "train_images.min(), test_images.min(), train_images.max(), test_images.max()"
   ]
  },
  {
   "cell_type": "markdown",
   "id": "0677a4f7",
   "metadata": {},
   "source": [
    "# benchmarks\n",
    "\n",
    "cifar10 train set, test set,  train_set[:10000]"
   ]
  },
  {
   "cell_type": "code",
   "execution_count": 14,
   "id": "9df97144",
   "metadata": {},
   "outputs": [],
   "source": [
    "class TensorDataset(Dataset):\n",
    "\n",
    "    def __init__(self, x):\n",
    "        self.x = x\n",
    "\n",
    "    def __getitem__(self, index):\n",
    "        return self.x[index]\n",
    "\n",
    "    def __len__(self):\n",
    "        return len(self.x)"
   ]
  },
  {
   "cell_type": "code",
   "execution_count": 15,
   "id": "f203104f",
   "metadata": {},
   "outputs": [
    {
     "name": "stdout",
     "output_type": "stream",
     "text": [
      "takes 35.565284729003906s\n",
      "{'inception_score_mean': 10.960357379524712, 'inception_score_std': 0.23457692862181354, 'frechet_inception_distance': 3.1508447258931938}\n"
     ]
    }
   ],
   "source": [
    "start = time.time()\n",
    "px_dataset = TensorDataset(torch.Tensor(test_images).to(dtype=torch.uint8))\n",
    "\n",
    "metrics_dict = torch_fidelity.calculate_metrics(\n",
    "    input1=px_dataset,\n",
    "    input2=f'cifar10-train',\n",
    "    cuda=True,\n",
    "    isc=True,\n",
    "    fid=True,\n",
    "    # kid=True,\n",
    "    verbose=False,\n",
    ")\n",
    "print(\"takes {}s\".format(time.time() - start))\n",
    "print(metrics_dict)\n",
    "# tensorflow version's results:\n",
    "# Obtained fid value of 2.203647314570105\n",
    "# FID of score 2.203647314570105 takes 166.0104057788849s"
   ]
  },
  {
   "cell_type": "code",
   "execution_count": 16,
   "id": "09e04738",
   "metadata": {},
   "outputs": [
    {
     "name": "stdout",
     "output_type": "stream",
     "text": [
      "takes 93.05363821983337s\n",
      "{'inception_score_mean': 11.233422048161026, 'inception_score_std': 0.20987301538533015, 'frechet_inception_distance': 4.3486920731083956e-09}\n"
     ]
    }
   ],
   "source": [
    "start = time.time()\n",
    "px_dataset = TensorDataset(torch.Tensor(train_images).to(dtype=torch.uint8))\n",
    "\n",
    "metrics_dict = torch_fidelity.calculate_metrics(\n",
    "    input1=px_dataset,\n",
    "    input2=f'cifar10-train',\n",
    "    cuda=True,\n",
    "    isc=True,\n",
    "    fid=True,\n",
    "    # kid=True,\n",
    "    verbose=False,\n",
    ")\n",
    "print(\"takes {}s\".format(time.time() - start))\n",
    "print(metrics_dict)\n",
    "\n",
    "# tensorflow version's results:\n",
    "# Obtained fid value of 0.08768652773858321\n",
    "# FID of score 0.08768652773858321 takes 254.37319445610046s"
   ]
  },
  {
   "cell_type": "code",
   "execution_count": 17,
   "id": "7b48d17c",
   "metadata": {},
   "outputs": [
    {
     "name": "stdout",
     "output_type": "stream",
     "text": [
      "takes 34.147802114486694s\n",
      "{'inception_score_mean': 11.139391022878295, 'inception_score_std': 0.34837200576093874, 'frechet_inception_distance': 2.107874122379201}\n"
     ]
    }
   ],
   "source": [
    "start = time.time()\n",
    "px_dataset = TensorDataset(torch.Tensor(train_images[:10000]).to(dtype=torch.uint8))\n",
    "\n",
    "metrics_dict = torch_fidelity.calculate_metrics(\n",
    "    input1=px_dataset,\n",
    "    input2=f'cifar10-train',\n",
    "    cuda=True,\n",
    "    isc=True,\n",
    "    fid=True,\n",
    "    # kid=True,\n",
    "    verbose=False,\n",
    ")\n",
    "print(\"takes {}s\".format(time.time() - start))\n",
    "print(metrics_dict)\n",
    "\n",
    "# tensorflow version's results:\n",
    "# Obtained fid value of 2.192182121402425\n",
    "# FID of score 2.192182121402425 takes 167.54650378227234s"
   ]
  },
  {
   "cell_type": "markdown",
   "id": "1e46abda",
   "metadata": {},
   "source": [
    "## A generated dataset"
   ]
  },
  {
   "cell_type": "code",
   "execution_count": 19,
   "id": "23f32b34",
   "metadata": {},
   "outputs": [],
   "source": [
    "feed_imgs = np.load('feed_imgs.npy')\n",
    "feed_imgs2 = feed_imgs.transpose(0, 3, 1, 2)"
   ]
  },
  {
   "cell_type": "code",
   "execution_count": 20,
   "id": "1d3d15d1",
   "metadata": {},
   "outputs": [
    {
     "name": "stdout",
     "output_type": "stream",
     "text": [
      "takes 31.553361177444458s\n",
      "{'inception_score_mean': 7.75461306602786, 'inception_score_std': 0.19010311746782324, 'frechet_inception_distance': 16.19926870440048}\n"
     ]
    }
   ],
   "source": [
    "\n",
    "start = time.time()\n",
    "px_dataset = TensorDataset(torch.Tensor(feed_imgs2).to(dtype=torch.uint8))\n",
    "\n",
    "metrics_dict = torch_fidelity.calculate_metrics(\n",
    "    input1=px_dataset,\n",
    "    input2=f'cifar10-train',\n",
    "    cuda=True,\n",
    "    isc=True,\n",
    "    fid=True,\n",
    "    # kid=True,\n",
    "    verbose=False,\n",
    ")\n",
    "print(\"takes {}s\".format(time.time() - start))\n",
    "print(metrics_dict)\n",
    "\n",
    "# tensorflow's result\n",
    "# Obtained fid value of 16.04265464806963\n",
    "# Inception score of 7.869165420532227\n",
    "# FID of score 16.04265464806963 takes 168.163743019104s"
   ]
  }
 ],
 "metadata": {
  "kernelspec": {
   "display_name": "Python 3",
   "language": "python",
   "name": "python3"
  },
  "language_info": {
   "codemirror_mode": {
    "name": "ipython",
    "version": 3
   },
   "file_extension": ".py",
   "mimetype": "text/x-python",
   "name": "python",
   "nbconvert_exporter": "python",
   "pygments_lexer": "ipython3",
   "version": "3.6.12"
  }
 },
 "nbformat": 4,
 "nbformat_minor": 5
}
