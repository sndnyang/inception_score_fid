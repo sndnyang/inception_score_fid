{
 "cells": [
  {
   "cell_type": "code",
   "execution_count": 1,
   "id": "5fd8692d",
   "metadata": {},
   "outputs": [],
   "source": [
    "%config Completer.use_jedi = False\n",
    "%load_ext autoreload\n",
    "%autoreload 2"
   ]
  },
  {
   "cell_type": "code",
   "execution_count": 2,
   "id": "14db504e",
   "metadata": {},
   "outputs": [],
   "source": [
    "import sys\n",
    "import os\n",
    "import time\n",
    "import argparse\n",
    "import numpy as np\n",
    "import torch as t\n",
    "import torch.nn as nn\n",
    "import torchvision as tv\n",
    "import torchvision.transforms as tr\n",
    "from torch.utils.data import DataLoader, Dataset\n",
    "import numpy as np\n",
    "\n",
    "from utils import get_train_test\n",
    "\n",
    "os.environ['CUDA_VISIBLE_DEVICES'] = '2'"
   ]
  },
  {
   "cell_type": "code",
   "execution_count": 3,
   "id": "6028c0b5",
   "metadata": {},
   "outputs": [],
   "source": [
    "def norm_ip(img, min, max):\n",
    "    temp = t.clamp(img, min=min, max=max)\n",
    "    temp = (temp + -min) / (max - min + 1e-5)\n",
    "    return temp"
   ]
  },
  {
   "cell_type": "code",
   "execution_count": 4,
   "id": "848acfd6",
   "metadata": {},
   "outputs": [],
   "source": [
    "device = t.device('cuda' if t.cuda.is_available() else 'cpu')\n"
   ]
  },
  {
   "cell_type": "code",
   "execution_count": 5,
   "id": "b27fae94",
   "metadata": {},
   "outputs": [
    {
     "name": "stdout",
     "output_type": "stream",
     "text": [
      "Files already downloaded and verified\n",
      "Files already downloaded and verified\n",
      "Files already downloaded and verified\n"
     ]
    }
   ],
   "source": [
    "args = argparse.Namespace()\n",
    "args.dataset = 'cifar10'\n",
    "args.data_root = '../../data'\n",
    "args.seed = 1\n",
    "data_loader, test_loader = get_train_test(args)\n"
   ]
  },
  {
   "cell_type": "code",
   "execution_count": 9,
   "id": "f91dae14",
   "metadata": {},
   "outputs": [
    {
     "name": "stdout",
     "output_type": "stream",
     "text": [
      "Files already downloaded and verified\n",
      "Files already downloaded and verified\n",
      "(60000, 32, 32, 3)\n"
     ]
    }
   ],
   "source": [
    "from data import Cifar10\n",
    "test_dataset = Cifar10(args, full=True, noise=False)\n",
    "\n",
    "test_dataloader = DataLoader(test_dataset, batch_size=100, num_workers=0, shuffle=True, drop_last=False)\n",
    "\n",
    "test_ims = []\n",
    "\n",
    "def rescale_im(im):\n",
    "    return np.clip(im * 256, 0, 255).astype(np.uint8)\n",
    "\n",
    "for data_corrupt, data, label_gt in test_dataloader:\n",
    "    if args.dataset in ['celeba128', 'img32']:\n",
    "        data = data_corrupt.numpy().transpose(0, 2, 3, 1)\n",
    "    else:\n",
    "        data = data.numpy()\n",
    "    test_ims.extend(list(rescale_im(data)))\n",
    "    if (args.dataset == \"imagenet\" or 'img' in args.dataset) and len(test_ims) > 60000:\n",
    "        test_ims = test_ims[:60000]\n",
    "        break\n",
    "        \n",
    "print(np.array(test_ims).shape)"
   ]
  },
  {
   "cell_type": "code",
   "execution_count": 10,
   "id": "b6edcb7b",
   "metadata": {},
   "outputs": [],
   "source": [
    "train_images = []\n",
    "for data, y, _  in data_loader:\n",
    "    data = norm_ip(data, -1, 1).numpy().transpose(0, 2, 3, 1)\n",
    "    train_images.extend(list(rescale_im(data)))\n",
    "    if (args.dataset == \"imagenet\" or 'img' in args.dataset) and len(train_images) > 60000:\n",
    "        train_images = train_images[:60000]\n",
    "        break"
   ]
  },
  {
   "cell_type": "code",
   "execution_count": 11,
   "id": "5916400e",
   "metadata": {},
   "outputs": [],
   "source": [
    "test_images = []\n",
    "for data, y, _ in test_loader:\n",
    "    data = norm_ip(data, -1, 1).numpy().transpose(0, 2, 3, 1)\n",
    "    test_images.extend(list(rescale_im(data)))\n",
    "    if (args.dataset == \"imagenet\" or 'img' in args.dataset) and len(test_images) > 60000:\n",
    "        test_images = test_images[:60000]\n",
    "        break"
   ]
  },
  {
   "cell_type": "code",
   "execution_count": 12,
   "id": "3c6f5a81",
   "metadata": {},
   "outputs": [
    {
     "data": {
      "text/plain": [
       "((50000, 32, 32, 3), (10000, 32, 32, 3))"
      ]
     },
     "execution_count": 12,
     "metadata": {},
     "output_type": "execute_result"
    }
   ],
   "source": [
    "np.array(train_images).shape, np.array(test_images).shape"
   ]
  },
  {
   "cell_type": "code",
   "execution_count": 13,
   "id": "78bcf417",
   "metadata": {},
   "outputs": [
    {
     "data": {
      "text/plain": [
       "(255, 0)"
      ]
     },
     "execution_count": 13,
     "metadata": {},
     "output_type": "execute_result"
    }
   ],
   "source": [
    "np.array(train_images).max(), np.array(train_images).min()"
   ]
  },
  {
   "cell_type": "markdown",
   "id": "a5b2db36",
   "metadata": {},
   "source": [
    "# call the function of TF"
   ]
  },
  {
   "cell_type": "code",
   "execution_count": 14,
   "id": "fbbd4b4b",
   "metadata": {
    "scrolled": false
   },
   "outputs": [
    {
     "name": "stdout",
     "output_type": "stream",
     "text": [
      "WARNING:tensorflow:From /home/xyang2/project/research/JEM/distillEBM/is_fid_functions/inception.py:24: The name tf.ConfigProto is deprecated. Please use tf.compat.v1.ConfigProto instead.\n",
      "\n",
      "WARNING:tensorflow:From /home/xyang2/project/research/JEM/distillEBM/is_fid_functions/inception.py:26: The name tf.Session is deprecated. Please use tf.compat.v1.Session instead.\n",
      "\n",
      "WARNING:tensorflow:From /home/xyang2/project/research/JEM/distillEBM/is_fid_functions/inception.py:86: FastGFile.__init__ (from tensorflow.python.platform.gfile) is deprecated and will be removed in a future version.\n",
      "Instructions for updating:\n",
      "Use tf.gfile.GFile.\n",
      "WARNING:tensorflow:From /home/xyang2/project/research/JEM/distillEBM/is_fid_functions/inception.py:87: The name tf.GraphDef is deprecated. Please use tf.compat.v1.GraphDef instead.\n",
      "\n"
     ]
    }
   ],
   "source": [
    "from inception import get_inception_score\n",
    "from fid import get_fid_score"
   ]
  },
  {
   "cell_type": "markdown",
   "id": "0677a4f7",
   "metadata": {},
   "source": [
    "# benchmarks\n",
    "\n",
    "cifar10 train set, test set,  train_set[:10000]"
   ]
  },
  {
   "cell_type": "code",
   "execution_count": 79,
   "id": "f203104f",
   "metadata": {},
   "outputs": [
    {
     "name": "stdout",
     "output_type": "stream",
     "text": [
      "Obtained fid value of 2.203647314570105\n",
      "FID of score 2.203647314570105 takes 166.0104057788849s\n"
     ]
    }
   ],
   "source": [
    "start = time.time()\n",
    "fid = get_fid_score(test_images, test_ims)\n",
    "print(\"FID of score {} takes {}s\".format(fid, time.time() - start))"
   ]
  },
  {
   "cell_type": "code",
   "execution_count": 82,
   "id": "09e04738",
   "metadata": {},
   "outputs": [
    {
     "name": "stdout",
     "output_type": "stream",
     "text": [
      "Obtained fid value of 0.08768652773858321\n",
      "FID of score 0.08768652773858321 takes 254.37319445610046s\n"
     ]
    }
   ],
   "source": [
    "start = time.time()\n",
    "fid = get_fid_score(train_images, test_ims)\n",
    "print(\"FID of score {} takes {}s\".format(fid, time.time() - start))"
   ]
  },
  {
   "cell_type": "code",
   "execution_count": 81,
   "id": "7b48d17c",
   "metadata": {},
   "outputs": [
    {
     "name": "stdout",
     "output_type": "stream",
     "text": [
      "Obtained fid value of 2.192182121402425\n",
      "FID of score 2.192182121402425 takes 167.54650378227234s\n"
     ]
    }
   ],
   "source": [
    "start = time.time()\n",
    "fid = get_fid_score(np.array(train_images)[:10000], test_ims)\n",
    "print(\"FID of score {} takes {}s\".format(fid, time.time() - start))"
   ]
  },
  {
   "cell_type": "code",
   "execution_count": 80,
   "id": "2eaebb80",
   "metadata": {},
   "outputs": [
    {
     "name": "stdout",
     "output_type": "stream",
     "text": [
      "iteration 0, total 10000\n",
      "iteration 3333, total 10000\n",
      "iteration 6666, total 10000\n",
      "iteration 9999, total 10000\n",
      "Inception score of 11.23015022277832 with std of 0.1562943458557129 takes 148.98509669303894s\n"
     ]
    }
   ],
   "source": [
    "splits = max(1, len(test_images) // 5000)\n",
    "start = time.time()\n",
    "score, std = get_inception_score(test_images, splits=splits)\n",
    "print(\"Inception score of {} with std of {} takes {}s\".format(score, std, time.time() - start))"
   ]
  },
  {
   "cell_type": "markdown",
   "id": "1e46abda",
   "metadata": {},
   "source": [
    "## A generated dataset"
   ]
  },
  {
   "cell_type": "code",
   "execution_count": 15,
   "id": "8c8f5f06",
   "metadata": {},
   "outputs": [],
   "source": [
    "feed_imgs = np.load('feed_imgs.npy')"
   ]
  },
  {
   "cell_type": "code",
   "execution_count": 16,
   "id": "38b0de68",
   "metadata": {},
   "outputs": [
    {
     "data": {
      "text/plain": [
       "(10000, 32, 32, 3)"
      ]
     },
     "execution_count": 16,
     "metadata": {},
     "output_type": "execute_result"
    }
   ],
   "source": [
    "feed_imgs.shape"
   ]
  },
  {
   "cell_type": "code",
   "execution_count": 17,
   "id": "18f31b51",
   "metadata": {},
   "outputs": [
    {
     "data": {
      "text/plain": [
       "(254.99872, 0.0)"
      ]
     },
     "execution_count": 17,
     "metadata": {},
     "output_type": "execute_result"
    }
   ],
   "source": [
    "feed_imgs.max(), feed_imgs.min()"
   ]
  },
  {
   "cell_type": "code",
   "execution_count": 18,
   "id": "3f3d1bb5",
   "metadata": {},
   "outputs": [
    {
     "name": "stdout",
     "output_type": "stream",
     "text": [
      "Obtained fid value of 16.04265464806963\n",
      "FID of score 16.04265464806963 takes 168.163743019104s\n"
     ]
    }
   ],
   "source": [
    "start = time.time()\n",
    "fid = get_fid_score(feed_imgs, test_ims)\n",
    "print(\"FID of score {} takes {}s\".format(fid, time.time() - start))"
   ]
  },
  {
   "cell_type": "code",
   "execution_count": 19,
   "id": "a9ca0641",
   "metadata": {},
   "outputs": [
    {
     "name": "stdout",
     "output_type": "stream",
     "text": [
      "iteration 0, total 10000\n",
      "iteration 3333, total 10000\n",
      "iteration 6666, total 10000\n",
      "iteration 9999, total 10000\n",
      "Inception score of 7.869165420532227 with std of 0.04828786849975586 takes 153.34843182563782s\n"
     ]
    }
   ],
   "source": [
    "splits = max(1, len(feed_imgs) // 5000)\n",
    "start = time.time()\n",
    "score, std = get_inception_score(feed_imgs, splits=splits)\n",
    "print(\"Inception score of {} with std of {} takes {}s\".format(score, std, time.time() - start))"
   ]
  }
 ],
 "metadata": {
  "kernelspec": {
   "display_name": "Python 3",
   "language": "python",
   "name": "python3"
  },
  "language_info": {
   "codemirror_mode": {
    "name": "ipython",
    "version": 3
   },
   "file_extension": ".py",
   "mimetype": "text/x-python",
   "name": "python",
   "nbconvert_exporter": "python",
   "pygments_lexer": "ipython3",
   "version": "3.6.12"
  }
 },
 "nbformat": 4,
 "nbformat_minor": 5
}
