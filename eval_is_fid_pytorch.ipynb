{
 "cells": [
  {
   "cell_type": "code",
   "execution_count": 1,
   "id": "5fd8692d",
   "metadata": {},
   "outputs": [],
   "source": [
    "%config Completer.use_jedi = False\n",
    "%load_ext autoreload\n",
    "%autoreload 2"
   ]
  },
  {
   "cell_type": "code",
   "execution_count": 2,
   "id": "14db504e",
   "metadata": {},
   "outputs": [],
   "source": [
    "import sys\n",
    "import os\n",
    "import time\n",
    "import argparse\n",
    "import numpy as np\n",
    "import torch as t\n",
    "import torch.nn as nn\n",
    "import torchvision as tv\n",
    "import torchvision.transforms as tr\n",
    "from torch.utils.data import DataLoader, Dataset\n",
    "import numpy as np\n",
    "\n",
    "import torch\n",
    "from torch.utils.data import TensorDataset\n",
    "\n",
    "from utils import get_train_test\n",
    "\n",
    "os.environ['CUDA_VISIBLE_DEVICES'] = '2'"
   ]
  },
  {
   "cell_type": "code",
   "execution_count": 3,
   "id": "6028c0b5",
   "metadata": {},
   "outputs": [],
   "source": [
    "def norm_ip(img, min, max):\n",
    "    temp = t.clamp(img, min=min, max=max)\n",
    "    temp = (temp + -min) / (max - min + 1e-5)\n",
    "    return temp"
   ]
  },
  {
   "cell_type": "code",
   "execution_count": 4,
   "id": "848acfd6",
   "metadata": {},
   "outputs": [],
   "source": [
    "device = t.device('cuda' if t.cuda.is_available() else 'cpu')\n"
   ]
  },
  {
   "cell_type": "code",
   "execution_count": 5,
   "id": "b27fae94",
   "metadata": {},
   "outputs": [
    {
     "name": "stdout",
     "output_type": "stream",
     "text": [
      "Files already downloaded and verified\n",
      "Files already downloaded and verified\n",
      "Files already downloaded and verified\n"
     ]
    }
   ],
   "source": [
    "args = argparse.Namespace()\n",
    "args.dataset = 'cifar10'\n",
    "args.data_root = '../../data'\n",
    "args.seed = 1\n",
    "data_loader, test_loader = get_train_test(args)\n"
   ]
  },
  {
   "cell_type": "code",
   "execution_count": 6,
   "id": "f91dae14",
   "metadata": {},
   "outputs": [
    {
     "name": "stdout",
     "output_type": "stream",
     "text": [
      "Files already downloaded and verified\n",
      "Files already downloaded and verified\n",
      "(60000, 32, 32, 3)\n"
     ]
    }
   ],
   "source": [
    "from data import Cifar10\n",
    "test_dataset = Cifar10(args, full=True, noise=False)\n",
    "\n",
    "test_dataloader = DataLoader(test_dataset, batch_size=100, num_workers=0, shuffle=True, drop_last=False)\n",
    "\n",
    "test_ims = []\n",
    "\n",
    "def rescale_im(im):\n",
    "    return np.clip(im * 256, 0, 255).astype(np.uint8)\n",
    "\n",
    "for data_corrupt, data, label_gt in test_dataloader:\n",
    "    if args.dataset in ['celeba128', 'img32']:\n",
    "        data = data_corrupt.numpy().transpose(0, 2, 3, 1)\n",
    "    else:\n",
    "        data = data.numpy()\n",
    "    test_ims.extend(list(rescale_im(data)))\n",
    "    if (args.dataset == \"imagenet\" or 'img' in args.dataset) and len(test_ims) > 60000:\n",
    "        test_ims = test_ims[:60000]\n",
    "        break\n",
    "        \n",
    "print(np.array(test_ims).shape)"
   ]
  },
  {
   "cell_type": "code",
   "execution_count": 7,
   "id": "b1077933",
   "metadata": {},
   "outputs": [],
   "source": [
    "test_imgs = np.array(test_ims).transpose(0, 3, 1, 2)"
   ]
  },
  {
   "cell_type": "code",
   "execution_count": 8,
   "id": "b6edcb7b",
   "metadata": {},
   "outputs": [],
   "source": [
    "train_images = []\n",
    "for data, y, _  in data_loader:\n",
    "    data = norm_ip(data, -1, 1).numpy()\n",
    "    train_images.extend(list(rescale_im(data)))\n",
    "    if (args.dataset == \"imagenet\" or 'img' in args.dataset) and len(train_images) > 60000:\n",
    "        train_images = train_images[:60000]\n",
    "        break\n",
    "        \n",
    "train_images = np.array(train_images)"
   ]
  },
  {
   "cell_type": "code",
   "execution_count": 9,
   "id": "5916400e",
   "metadata": {},
   "outputs": [],
   "source": [
    "test_images = []\n",
    "for data, y, _ in test_loader:\n",
    "    data = norm_ip(data, -1, 1).numpy()\n",
    "    test_images.extend(list(rescale_im(data)))\n",
    "    if (args.dataset == \"imagenet\" or 'img' in args.dataset) and len(test_images) > 60000:\n",
    "        test_images = test_images[:60000]\n",
    "        break\n",
    "test_images = np.array(test_images)"
   ]
  },
  {
   "cell_type": "code",
   "execution_count": 10,
   "id": "dcc16f75",
   "metadata": {},
   "outputs": [
    {
     "data": {
      "text/plain": [
       "(60000, 3, 32, 32)"
      ]
     },
     "execution_count": 10,
     "metadata": {},
     "output_type": "execute_result"
    }
   ],
   "source": [
    "test_imgs.shape"
   ]
  },
  {
   "cell_type": "code",
   "execution_count": 11,
   "id": "3c6f5a81",
   "metadata": {},
   "outputs": [
    {
     "name": "stdout",
     "output_type": "stream",
     "text": [
      "(50000, 3, 32, 32) (10000, 3, 32, 32)\n"
     ]
    }
   ],
   "source": [
    "print(train_images.shape, test_images.shape)"
   ]
  },
  {
   "cell_type": "markdown",
   "id": "a5b2db36",
   "metadata": {},
   "source": [
    "# call the function of TF"
   ]
  },
  {
   "cell_type": "code",
   "execution_count": 12,
   "id": "2907d41d",
   "metadata": {},
   "outputs": [],
   "source": [
    "from fid_score import *"
   ]
  },
  {
   "cell_type": "markdown",
   "id": "0677a4f7",
   "metadata": {},
   "source": [
    "# benchmarks\n",
    "\n",
    "cifar10 train set, test set,  train_set[:10000]"
   ]
  },
  {
   "cell_type": "code",
   "execution_count": 13,
   "id": "f203104f",
   "metadata": {},
   "outputs": [
    {
     "name": "stdout",
     "output_type": "stream",
     "text": [
      "FID of score 5.124681832706301 takes 118.20916604995728s\n"
     ]
    }
   ],
   "source": [
    "start = time.time()\n",
    "fid = calculate_fid_score(test_images, test_imgs)\n",
    "print(\"FID of score {} takes {}s\".format(fid, time.time() - start))\n",
    "\n",
    "# tensorflow version's results:\n",
    "# Obtained fid value of 2.203647314570105\n",
    "# FID of score 2.203647314570105 takes 166.0104057788849s"
   ]
  },
  {
   "cell_type": "code",
   "execution_count": 18,
   "id": "09e04738",
   "metadata": {},
   "outputs": [
    {
     "name": "stdout",
     "output_type": "stream",
     "text": [
      "FID of score 0.20264188262535754 takes 168.97182512283325s\n"
     ]
    }
   ],
   "source": [
    "start = time.time()\n",
    "fid = calculate_fid_score(train_images, test_imgs)\n",
    "print(\"FID of score {} takes {}s\".format(fid, time.time() - start))\n",
    "\n",
    "# tensorflow version's results:\n",
    "# Obtained fid value of 0.08768652773858321\n",
    "# FID of score 0.08768652773858321 takes 254.37319445610046s"
   ]
  },
  {
   "cell_type": "code",
   "execution_count": 14,
   "id": "7b48d17c",
   "metadata": {},
   "outputs": [
    {
     "name": "stdout",
     "output_type": "stream",
     "text": [
      "FID of score 4.858539173947975 takes 113.88631391525269s\n"
     ]
    }
   ],
   "source": [
    "start = time.time()\n",
    "fid = calculate_fid_score(train_images[:10000], test_imgs)\n",
    "print(\"FID of score {} takes {}s\".format(fid, time.time() - start))\n",
    "\n",
    "# tensorflow version's results:\n",
    "# Obtained fid value of 2.192182121402425\n",
    "# FID of score 2.192182121402425 takes 167.54650378227234s"
   ]
  },
  {
   "cell_type": "markdown",
   "id": "1e46abda",
   "metadata": {},
   "source": [
    "## A generated dataset"
   ]
  },
  {
   "cell_type": "code",
   "execution_count": 15,
   "id": "8c8f5f06",
   "metadata": {},
   "outputs": [],
   "source": [
    "feed_imgs = np.load('feed_imgs.npy')\n",
    "feed_imgs2 = feed_imgs.transpose(0, 3, 1, 2)"
   ]
  },
  {
   "cell_type": "code",
   "execution_count": 17,
   "id": "1d3d15d1",
   "metadata": {},
   "outputs": [
    {
     "data": {
      "text/plain": [
       "9.871485188506995"
      ]
     },
     "execution_count": 17,
     "metadata": {},
     "output_type": "execute_result"
    }
   ],
   "source": [
    "calculate_fid_score(feed_imgs2, test_imgs)\n",
    "\n",
    "# tensorflow's result\n",
    "# Obtained fid value of 16.04265464806963\n",
    "# FID of score 16.04265464806963 takes 168.163743019104s"
   ]
  }
 ],
 "metadata": {
  "kernelspec": {
   "display_name": "Python 3",
   "language": "python",
   "name": "python3"
  },
  "language_info": {
   "codemirror_mode": {
    "name": "ipython",
    "version": 3
   },
   "file_extension": ".py",
   "mimetype": "text/x-python",
   "name": "python",
   "nbconvert_exporter": "python",
   "pygments_lexer": "ipython3",
   "version": "3.6.12"
  }
 },
 "nbformat": 4,
 "nbformat_minor": 5
}
